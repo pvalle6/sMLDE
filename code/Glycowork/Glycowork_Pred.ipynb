{
  "cells": [
    {
      "cell_type": "code",
      "execution_count": null,
      "metadata": {
        "id": "dLbDD6JKL1Z4"
      },
      "outputs": [],
      "source": [
        "!pip install torch-scatter \n",
        "!pip install torch-sparse \n",
        "!pip install torch-cluster \n",
        "!pip install torch-spline-conv \n",
        "!pip install torch-geometric"
      ]
    },
    {
      "cell_type": "code",
      "execution_count": null,
      "metadata": {
        "id": "RdhQ2uYYLtja"
      },
      "outputs": [],
      "source": [
        "!pip install glycowork\n",
        "import glycowork"
      ]
    },
    {
      "cell_type": "code",
      "execution_count": null,
      "metadata": {
        "id": "n1POtCuDQQXA",
        "colab": {
          "base_uri": "https://localhost:8080/"
        },
        "outputId": "1aa7e82c-ceff-47cb-930f-a323f9ded27c"
      },
      "outputs": [
        {
          "output_type": "stream",
          "name": "stderr",
          "text": [
            "/usr/local/lib/python3.7/dist-packages/statsmodels/tools/_testing.py:19: FutureWarning: pandas.util.testing is deprecated. Use the functions in the public API at pandas.testing instead.\n",
            "  import pandas.util.testing as tm\n"
          ]
        }
      ],
      "source": [
        "#export\n",
        "from glycowork.ml.model_training import *\n",
        "from glycowork.ml.models import *\n",
        "from glycowork.ml.processing import *\n",
        "from glycowork.ml.inference import *\n",
        "from glycowork.ml.train_test_split import *\n",
        "from glycowork.ml import models\n",
        "from glycowork.ml import model_training\n",
        "#export\n",
        "from glycowork.glycan_data.loader import *\n",
        "from glycowork.glycan_data.data_entry import *\n",
        "from glycowork.motif.analysis import plot_embeddings, make_heatmap, characterize_monosaccharide, get_pvals_motifs"
      ]
    },
    {
      "cell_type": "code",
      "execution_count": null,
      "metadata": {
        "id": "rvjs6uEXVKHr"
      },
      "outputs": [],
      "source": [
        "!pip install nbdev\n",
        "#hide\n",
        "#default_exp ml\n",
        "import warnings\n",
        "warnings.filterwarnings(\"ignore\")\n",
        "from nbdev.showdoc import show_doc\n",
        "from IPython.display import HTML\n",
        "%load_ext autoreload\n",
        "%autoreload 2"
      ]
    },
    {
      "cell_type": "code",
      "source": [
        ""
      ],
      "metadata": {
        "id": "BseNOyJZaZGI"
      },
      "execution_count": null,
      "outputs": []
    },
    {
      "cell_type": "markdown",
      "metadata": {
        "id": "qqZBJVS1bE0I"
      },
      "source": [
        "Code"
      ]
    },
    {
      "cell_type": "code",
      "source": [
        "protein_SNA = 'MRLVAKLLYLAVLAICGLGIHGALTHPRVTPPVYPSVSFNLTGADTYEPFLRALQEKVILGNHTAFDLPVLNPESQVSDSNRFVLVPLTNPSGDTVTLAIDVVNLYVVAFSSNGKSYFFSGSTAVQRDNLFVDTTQEELNFTGNYTSLERQVGFGRVYIPLGPKSLDQAISSLRTYTLTAGDTKPLARGLLVVIQMVSEAARFRYIELRIRTSITDASEFTPDLLMLSMENNWSSMSSEIQQAQPGGIFAGVVQLRDERNNSIEVTNFRRLFELTYIAVLLYGCAPVTSSSYSNNAIDAQIIKMPVFRGGEYEKVCSVVEVTRRISGWDGLCVDVRYGHYIDGNPVQLRPCGNECNQLWTFRTDGTIRWLGKCLTASSSVMIYDCNTVPPEATKWVVSIDGTITNPHSGLVLTAPQAAEGTALSLENNIHAARQGWTVGDVEPLVTFIVGYKQMCLRENGENNFVWLEDCVLNRVQQEWALYGDGTIRVNSNRSLCVTSEDHEPSDLIVILKCEGSGNQRWVFNTNGTISNPNAKLLMDVAQRDVSLRKIILYRPTGNPNQQWITTTHPA'"
      ],
      "metadata": {
        "id": "7FIvjQgAQATY"
      },
      "execution_count": null,
      "outputs": []
    },
    {
      "cell_type": "code",
      "source": [
        "with open('stored_protein_embeddings.pkl', 'rb') as file:\n",
        "  old_dic = pickle.load(file)"
      ],
      "metadata": {
        "id": "e0JO6sv7R-Sq"
      },
      "execution_count": null,
      "outputs": []
    },
    {
      "cell_type": "code",
      "source": [
        "model = prep_model('LectinOracle',1,trained=True)"
      ],
      "metadata": {
        "id": "07FZlE81dmsV"
      },
      "execution_count": null,
      "outputs": []
    },
    {
      "cell_type": "code",
      "source": [
        "model.load_state_dict(torch.load(trained_LectinOracle))"
      ],
      "metadata": {
        "colab": {
          "base_uri": "https://localhost:8080/"
        },
        "id": "GeYIzeEoX_Jb",
        "outputId": "d8da8a17-540a-44d5-9821-9f10e227c91c"
      },
      "execution_count": null,
      "outputs": [
        {
          "output_type": "execute_result",
          "data": {
            "text/plain": [
              "<All keys matched successfully>"
            ]
          },
          "metadata": {},
          "execution_count": 50
        }
      ]
    },
    {
      "cell_type": "code",
      "execution_count": null,
      "metadata": {
        "id": "3nU4_qTsaToo"
      },
      "outputs": [],
      "source": [
        "preds = get_lectin_preds(protein_SNA, df_glycan.glycan.tolist(),model,old_dic)"
      ]
    },
    {
      "cell_type": "code",
      "source": [
        "preds.to_csv(\"SNA_preds\")"
      ],
      "metadata": {
        "id": "rYRTXmgQk2CJ"
      },
      "execution_count": null,
      "outputs": []
    },
    {
      "cell_type": "code",
      "source": [
        "print(preds) "
      ],
      "metadata": {
        "id": "j7W5y-emffk1"
      },
      "execution_count": null,
      "outputs": []
    }
  ],
  "metadata": {
    "accelerator": "GPU",
    "colab": {
      "name": "Glycowork_Pred",
      "provenance": []
    },
    "gpuClass": "standard",
    "kernelspec": {
      "display_name": "Python 3",
      "name": "python3"
    },
    "language_info": {
      "name": "python"
    }
  },
  "nbformat": 4,
  "nbformat_minor": 0
}