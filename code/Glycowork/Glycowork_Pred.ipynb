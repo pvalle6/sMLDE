{
 "cells": [
  {
   "cell_type": "markdown",
   "metadata": {},
   "source": [
    "Setup"
   ]
  },
  {
   "cell_type": "code",
   "execution_count": 1,
   "metadata": {},
   "outputs": [
    {
     "name": "stdout",
     "output_type": "stream",
     "text": [
      "1.12.1+cu102\n"
     ]
    }
   ],
   "source": [
    "import torch\n",
    "print(torch.__version__)"
   ]
  },
  {
   "cell_type": "code",
   "execution_count": 2,
   "metadata": {},
   "outputs": [],
   "source": [
    "!export PATH=/usr/local/cuda-11.1/bin:$PATH"
   ]
  },
  {
   "cell_type": "code",
   "execution_count": 3,
   "metadata": {},
   "outputs": [
    {
     "name": "stdout",
     "output_type": "stream",
     "text": [
      "Found existing installation: torch-scatter 2.0.9\n",
      "Uninstalling torch-scatter-2.0.9:\n",
      "  Successfully uninstalled torch-scatter-2.0.9\n",
      "Found existing installation: torch-sparse 0.6.15\n",
      "Uninstalling torch-sparse-0.6.15:\n",
      "  Successfully uninstalled torch-sparse-0.6.15\n",
      "Found existing installation: torch-cluster 1.6.0\n",
      "Uninstalling torch-cluster-1.6.0:\n",
      "  Successfully uninstalled torch-cluster-1.6.0\n",
      "Found existing installation: torch-spline-conv 1.2.1\n",
      "Uninstalling torch-spline-conv-1.2.1:\n",
      "  Successfully uninstalled torch-spline-conv-1.2.1\n",
      "Found existing installation: torch-geometric 2.1.0.post1\n",
      "Uninstalling torch-geometric-2.1.0.post1:\n",
      "  Successfully uninstalled torch-geometric-2.1.0.post1\n",
      "Found existing installation: glycowork 0.5.0\n",
      "Uninstalling glycowork-0.5.0:\n",
      "  Successfully uninstalled glycowork-0.5.0\n"
     ]
    }
   ],
   "source": [
    "!pip uninstall torch-scatter --yes \n",
    "!pip uninstall torch-sparse --yes\n",
    "!pip uninstall torch-cluster --yes\n",
    "!pip uninstall torch-spline-conv --yes\n",
    "!pip uninstall torch-geometric --yes\n",
    "!pip uninstall glycowork --y"
   ]
  },
  {
   "cell_type": "code",
   "execution_count": 4,
   "metadata": {
    "id": "dLbDD6JKL1Z4"
   },
   "outputs": [
    {
     "name": "stdout",
     "output_type": "stream",
     "text": [
      "Looking in links: https://data.pyg.org/whl/torch-1.12.0+cu102.html\n",
      "Collecting torch-scatter\n",
      "  Using cached https://data.pyg.org/whl/torch-1.12.0%2Bcu102/torch_scatter-2.0.9-cp37-cp37m-linux_x86_64.whl (8.0 MB)\n",
      "Installing collected packages: torch-scatter\n",
      "Successfully installed torch-scatter-2.0.9\n",
      "Looking in links: https://data.pyg.org/whl/torch-1.12.0+cu102.html\n",
      "Collecting torch-sparse\n",
      "  Downloading https://data.pyg.org/whl/torch-1.12.0%2Bcu102/torch_sparse-0.6.15-cp37-cp37m-linux_x86_64.whl (2.9 MB)\n",
      "     |████████████████████████████████| 2.9 MB 4.6 MB/s            \n",
      "\u001b[?25hRequirement already satisfied: scipy in /opt/conda/lib/python3.7/site-packages (from torch-sparse) (1.7.3)\n",
      "Requirement already satisfied: numpy<1.23.0,>=1.16.5 in /opt/conda/lib/python3.7/site-packages (from scipy->torch-sparse) (1.21.5)\n",
      "Installing collected packages: torch-sparse\n",
      "Successfully installed torch-sparse-0.6.15\n",
      "Looking in links: https://data.pyg.org/whl/torch-1.12.0+cu102.html\n",
      "Collecting torch-cluster\n",
      "  Using cached https://data.pyg.org/whl/torch-1.12.0%2Bcu102/torch_cluster-1.6.0-cp37-cp37m-linux_x86_64.whl (1.4 MB)\n",
      "Installing collected packages: torch-cluster\n",
      "Successfully installed torch-cluster-1.6.0\n",
      "Looking in links: https://data.pyg.org/whl/torch-1.12.0+cu102.html\n",
      "Collecting torch-spline-conv\n",
      "  Using cached https://data.pyg.org/whl/torch-1.12.0%2Bcu102/torch_spline_conv-1.2.1-cp37-cp37m-linux_x86_64.whl (633 kB)\n",
      "Installing collected packages: torch-spline-conv\n",
      "Successfully installed torch-spline-conv-1.2.1\n",
      "Looking in links: https://data.pyg.org/whl/torch-1.12.0+cu102.html\n",
      "Collecting torch-geometric\n",
      "  Using cached torch_geometric-2.1.0.post1-py3-none-any.whl\n",
      "Requirement already satisfied: requests in /opt/conda/lib/python3.7/site-packages (from torch-geometric) (2.27.1)\n",
      "Requirement already satisfied: tqdm in /opt/conda/lib/python3.7/site-packages (from torch-geometric) (4.62.3)\n",
      "Requirement already satisfied: scipy in /opt/conda/lib/python3.7/site-packages (from torch-geometric) (1.7.3)\n",
      "Requirement already satisfied: jinja2 in /opt/conda/lib/python3.7/site-packages (from torch-geometric) (3.0.3)\n",
      "Requirement already satisfied: scikit-learn in /opt/conda/lib/python3.7/site-packages (from torch-geometric) (1.0.1)\n",
      "Requirement already satisfied: pyparsing in /opt/conda/lib/python3.7/site-packages (from torch-geometric) (3.0.6)\n",
      "Requirement already satisfied: numpy in /opt/conda/lib/python3.7/site-packages (from torch-geometric) (1.21.5)\n",
      "Requirement already satisfied: MarkupSafe>=2.0 in /opt/conda/lib/python3.7/site-packages (from jinja2->torch-geometric) (2.0.1)\n",
      "Requirement already satisfied: idna<4,>=2.5 in /opt/conda/lib/python3.7/site-packages (from requests->torch-geometric) (3.3)\n",
      "Requirement already satisfied: charset-normalizer~=2.0.0 in /opt/conda/lib/python3.7/site-packages (from requests->torch-geometric) (2.0.11)\n",
      "Requirement already satisfied: certifi>=2017.4.17 in /opt/conda/lib/python3.7/site-packages (from requests->torch-geometric) (2021.10.8)\n",
      "Requirement already satisfied: urllib3<1.27,>=1.21.1 in /opt/conda/lib/python3.7/site-packages (from requests->torch-geometric) (1.26.8)\n",
      "Requirement already satisfied: threadpoolctl>=2.0.0 in /opt/conda/lib/python3.7/site-packages (from scikit-learn->torch-geometric) (3.0.0)\n",
      "Requirement already satisfied: joblib>=0.11 in /opt/conda/lib/python3.7/site-packages (from scikit-learn->torch-geometric) (1.1.0)\n",
      "Installing collected packages: torch-geometric\n",
      "Successfully installed torch-geometric-2.1.0.post1\n",
      "Collecting glycowork\n",
      "  Using cached glycowork-0.5.0-py3-none-any.whl (185.8 MB)\n",
      "Requirement already satisfied: scipy in /opt/conda/lib/python3.7/site-packages (from glycowork) (1.7.3)\n",
      "Requirement already satisfied: xgboost in /home/jupyter/.local/lib/python3.7/site-packages (from glycowork) (1.6.1)\n",
      "Requirement already satisfied: networkx in /opt/conda/lib/python3.7/site-packages (from glycowork) (2.6.3)\n",
      "Requirement already satisfied: requests in /opt/conda/lib/python3.7/site-packages (from glycowork) (2.27.1)\n",
      "Requirement already satisfied: statsmodels in /opt/conda/lib/python3.7/site-packages (from glycowork) (0.13.1)\n",
      "Requirement already satisfied: sklearn in /home/jupyter/.local/lib/python3.7/site-packages (from glycowork) (0.0)\n",
      "Requirement already satisfied: seaborn in /opt/conda/lib/python3.7/site-packages (from glycowork) (0.11.2)\n",
      "Requirement already satisfied: mpld3 in /home/jupyter/.local/lib/python3.7/site-packages (from glycowork) (0.5.8)\n",
      "Requirement already satisfied: pandas in /opt/conda/lib/python3.7/site-packages (from glycowork) (1.3.5)\n",
      "Requirement already satisfied: regex in /home/jupyter/.local/lib/python3.7/site-packages (from glycowork) (2022.7.25)\n",
      "Requirement already satisfied: torch in /home/jupyter/.local/lib/python3.7/site-packages (from glycowork) (1.12.1)\n",
      "Requirement already satisfied: matplotlib in /opt/conda/lib/python3.7/site-packages (from mpld3->glycowork) (3.5.1)\n",
      "Requirement already satisfied: jinja2 in /opt/conda/lib/python3.7/site-packages (from mpld3->glycowork) (3.0.3)\n",
      "Requirement already satisfied: python-dateutil>=2.7.3 in /opt/conda/lib/python3.7/site-packages (from pandas->glycowork) (2.8.2)\n",
      "Requirement already satisfied: pytz>=2017.3 in /opt/conda/lib/python3.7/site-packages (from pandas->glycowork) (2021.3)\n",
      "Requirement already satisfied: numpy>=1.17.3 in /opt/conda/lib/python3.7/site-packages (from pandas->glycowork) (1.21.5)\n",
      "Requirement already satisfied: charset-normalizer~=2.0.0 in /opt/conda/lib/python3.7/site-packages (from requests->glycowork) (2.0.11)\n",
      "Requirement already satisfied: certifi>=2017.4.17 in /opt/conda/lib/python3.7/site-packages (from requests->glycowork) (2021.10.8)\n",
      "Requirement already satisfied: urllib3<1.27,>=1.21.1 in /opt/conda/lib/python3.7/site-packages (from requests->glycowork) (1.26.8)\n",
      "Requirement already satisfied: idna<4,>=2.5 in /opt/conda/lib/python3.7/site-packages (from requests->glycowork) (3.3)\n",
      "Requirement already satisfied: scikit-learn in /opt/conda/lib/python3.7/site-packages (from sklearn->glycowork) (1.0.1)\n",
      "Requirement already satisfied: patsy>=0.5.2 in /opt/conda/lib/python3.7/site-packages (from statsmodels->glycowork) (0.5.2)\n",
      "Requirement already satisfied: typing-extensions in /opt/conda/lib/python3.7/site-packages (from torch->glycowork) (4.0.1)\n",
      "Requirement already satisfied: kiwisolver>=1.0.1 in /opt/conda/lib/python3.7/site-packages (from matplotlib->mpld3->glycowork) (1.3.2)\n",
      "Requirement already satisfied: packaging>=20.0 in /opt/conda/lib/python3.7/site-packages (from matplotlib->mpld3->glycowork) (21.3)\n",
      "Requirement already satisfied: fonttools>=4.22.0 in /opt/conda/lib/python3.7/site-packages (from matplotlib->mpld3->glycowork) (4.28.5)\n",
      "Requirement already satisfied: cycler>=0.10 in /opt/conda/lib/python3.7/site-packages (from matplotlib->mpld3->glycowork) (0.11.0)\n",
      "Requirement already satisfied: pillow>=6.2.0 in /opt/conda/lib/python3.7/site-packages (from matplotlib->mpld3->glycowork) (9.0.0)\n",
      "Requirement already satisfied: pyparsing>=2.2.1 in /opt/conda/lib/python3.7/site-packages (from matplotlib->mpld3->glycowork) (3.0.6)\n",
      "Requirement already satisfied: six in /opt/conda/lib/python3.7/site-packages (from patsy>=0.5.2->statsmodels->glycowork) (1.16.0)\n",
      "Requirement already satisfied: MarkupSafe>=2.0 in /opt/conda/lib/python3.7/site-packages (from jinja2->mpld3->glycowork) (2.0.1)\n",
      "Requirement already satisfied: joblib>=0.11 in /opt/conda/lib/python3.7/site-packages (from scikit-learn->sklearn->glycowork) (1.1.0)\n",
      "Requirement already satisfied: threadpoolctl>=2.0.0 in /opt/conda/lib/python3.7/site-packages (from scikit-learn->sklearn->glycowork) (3.0.0)\n",
      "Installing collected packages: glycowork\n",
      "Successfully installed glycowork-0.5.0\n"
     ]
    }
   ],
   "source": [
    "!pip install torch-scatter -f https://data.pyg.org/whl/torch-1.12.0+cu102.html\n",
    "!pip install torch-sparse --no-cache-dir -f https://data.pyg.org/whl/torch-1.12.0+cu102.html\n",
    "!pip install torch-cluster -f https://data.pyg.org/whl/torch-1.12.0+cu102.html\n",
    "!pip install torch-spline-conv -f https://data.pyg.org/whl/torch-1.12.0+cu102.html\n",
    "!pip install torch-geometric -f https://data.pyg.org/whl/torch-1.12.0+cu102.html\n",
    "!pip install glycowork"
   ]
  },
  {
   "cell_type": "code",
   "execution_count": 5,
   "metadata": {
    "id": "n1POtCuDQQXA"
   },
   "outputs": [],
   "source": [
    "import glycowork\n",
    "#export\n",
    "from glycowork.ml.model_training import *\n",
    "from glycowork.ml.models import *\n",
    "from glycowork.ml.processing import *\n",
    "from glycowork.ml.inference import *\n",
    "from glycowork.ml.train_test_split import *\n",
    "from glycowork.ml import models\n",
    "from glycowork.ml import model_training\n",
    "#export\n",
    "from glycowork.glycan_data.loader import *\n",
    "from glycowork.glycan_data.data_entry import *\n",
    "from glycowork.motif.analysis import plot_embeddings, make_heatmap, characterize_monosaccharide, get_pvals_motifs"
   ]
  },
  {
   "cell_type": "code",
   "execution_count": 6,
   "metadata": {
    "id": "rvjs6uEXVKHr"
   },
   "outputs": [
    {
     "name": "stdout",
     "output_type": "stream",
     "text": [
      "Requirement already satisfied: nbdev in /home/jupyter/.local/lib/python3.7/site-packages (2.1.7)\n",
      "Requirement already satisfied: fastcore>=1.5.17 in /home/jupyter/.local/lib/python3.7/site-packages (from nbdev) (1.5.17)\n",
      "Requirement already satisfied: ghapi in /home/jupyter/.local/lib/python3.7/site-packages (from nbdev) (1.0.0)\n",
      "Requirement already satisfied: asttokens in /home/jupyter/.local/lib/python3.7/site-packages (from nbdev) (2.0.8)\n",
      "Requirement already satisfied: PyYAML in /opt/conda/lib/python3.7/site-packages (from nbdev) (6.0)\n",
      "Requirement already satisfied: astunparse in /opt/conda/lib/python3.7/site-packages (from nbdev) (1.6.3)\n",
      "Requirement already satisfied: execnb>=0.0.10 in /home/jupyter/.local/lib/python3.7/site-packages (from nbdev) (0.1.1)\n",
      "Requirement already satisfied: ipython in /opt/conda/lib/python3.7/site-packages (from execnb>=0.0.10->nbdev) (7.30.1)\n",
      "Requirement already satisfied: pip in /opt/conda/lib/python3.7/site-packages (from fastcore>=1.5.17->nbdev) (21.3.1)\n",
      "Requirement already satisfied: packaging in /opt/conda/lib/python3.7/site-packages (from fastcore>=1.5.17->nbdev) (21.3)\n",
      "Requirement already satisfied: six in /opt/conda/lib/python3.7/site-packages (from asttokens->nbdev) (1.16.0)\n",
      "Requirement already satisfied: wheel<1.0,>=0.23.0 in /opt/conda/lib/python3.7/site-packages (from astunparse->nbdev) (0.37.1)\n",
      "Requirement already satisfied: jedi>=0.16 in /opt/conda/lib/python3.7/site-packages (from ipython->execnb>=0.0.10->nbdev) (0.18.1)\n",
      "Requirement already satisfied: decorator in /opt/conda/lib/python3.7/site-packages (from ipython->execnb>=0.0.10->nbdev) (5.1.0)\n",
      "Requirement already satisfied: setuptools>=18.5 in /opt/conda/lib/python3.7/site-packages (from ipython->execnb>=0.0.10->nbdev) (60.6.0)\n",
      "Requirement already satisfied: pygments in /opt/conda/lib/python3.7/site-packages (from ipython->execnb>=0.0.10->nbdev) (2.10.0)\n",
      "Requirement already satisfied: traitlets>=4.2 in /opt/conda/lib/python3.7/site-packages (from ipython->execnb>=0.0.10->nbdev) (5.1.1)\n",
      "Requirement already satisfied: pickleshare in /opt/conda/lib/python3.7/site-packages (from ipython->execnb>=0.0.10->nbdev) (0.7.5)\n",
      "Requirement already satisfied: pexpect>4.3 in /opt/conda/lib/python3.7/site-packages (from ipython->execnb>=0.0.10->nbdev) (4.8.0)\n",
      "Requirement already satisfied: matplotlib-inline in /opt/conda/lib/python3.7/site-packages (from ipython->execnb>=0.0.10->nbdev) (0.1.3)\n",
      "Requirement already satisfied: backcall in /opt/conda/lib/python3.7/site-packages (from ipython->execnb>=0.0.10->nbdev) (0.2.0)\n",
      "Requirement already satisfied: prompt-toolkit!=3.0.0,!=3.0.1,<3.1.0,>=2.0.0 in /opt/conda/lib/python3.7/site-packages (from ipython->execnb>=0.0.10->nbdev) (3.0.24)\n",
      "Requirement already satisfied: pyparsing!=3.0.5,>=2.0.2 in /opt/conda/lib/python3.7/site-packages (from packaging->fastcore>=1.5.17->nbdev) (3.0.6)\n",
      "Requirement already satisfied: parso<0.9.0,>=0.8.0 in /opt/conda/lib/python3.7/site-packages (from jedi>=0.16->ipython->execnb>=0.0.10->nbdev) (0.8.3)\n",
      "Requirement already satisfied: ptyprocess>=0.5 in /opt/conda/lib/python3.7/site-packages (from pexpect>4.3->ipython->execnb>=0.0.10->nbdev) (0.7.0)\n",
      "Requirement already satisfied: wcwidth in /opt/conda/lib/python3.7/site-packages (from prompt-toolkit!=3.0.0,!=3.0.1,<3.1.0,>=2.0.0->ipython->execnb>=0.0.10->nbdev) (0.2.5)\n"
     ]
    }
   ],
   "source": [
    "!pip install nbdev\n",
    "#hide\n",
    "#default_exp ml\n",
    "import warnings\n",
    "warnings.filterwarnings(\"ignore\")\n",
    "from nbdev.showdoc import show_doc\n",
    "from IPython.display import HTML\n",
    "%load_ext autoreload\n",
    "%autoreload 2"
   ]
  },
  {
   "cell_type": "code",
   "execution_count": 7,
   "metadata": {
    "id": "BseNOyJZaZGI"
   },
   "outputs": [
    {
     "name": "stdout",
     "output_type": "stream",
     "text": [
      "Requirement already satisfied: fair-esm in /home/jupyter/.local/lib/python3.7/site-packages (0.5.0)\r\n"
     ]
    }
   ],
   "source": [
    "!pip install fair-esm\n",
    "import esm\n",
    "model_esm, alphabet = esm.pretrained.esm1b_t33_650M_UR50S()"
   ]
  },
  {
   "cell_type": "markdown",
   "metadata": {},
   "source": [
    "Parse Protein Input"
   ]
  },
  {
   "cell_type": "code",
   "execution_count": 8,
   "metadata": {},
   "outputs": [
    {
     "name": "stdout",
     "output_type": "stream",
     "text": [
      "gs://fc-0a6f0af0-7c38-45d2-9faa-2ab086ec0b09/Glycowork/\n",
      "gs://fc-0a6f0af0-7c38-45d2-9faa-2ab086ec0b09/Glycowork/10GBChimera.output\n",
      "gs://fc-0a6f0af0-7c38-45d2-9faa-2ab086ec0b09/Glycowork/stored_protein_embeddings.pkl\n",
      "Copying gs://fc-0a6f0af0-7c38-45d2-9faa-2ab086ec0b09/Glycowork/10GBChimera.output...\n",
      "/ [1 files][994.3 MiB/994.3 MiB]   59.5 MiB/s                                   \n",
      "Operation completed over 1 objects/994.3 MiB.                                    \n"
     ]
    }
   ],
   "source": [
    "#CHIEMRA INPUT\n",
    "!gsutil ls gs://fc-0a6f0af0-7c38-45d2-9faa-2ab086ec0b09/Glycowork\n",
    "!gsutil cp gs://fc-0a6f0af0-7c38-45d2-9faa-2ab086ec0b09/Glycowork/10GBChimera.output chimeras.output\n",
    "protein_db = []"
   ]
  },
  {
   "cell_type": "code",
   "execution_count": 24,
   "metadata": {},
   "outputs": [],
   "source": [
    "file_input = pd.read_csv('chimeras.output', nrows = 100, header = None)\n",
    "file_input.columns = ['input']"
   ]
  },
  {
   "cell_type": "code",
   "execution_count": 25,
   "metadata": {
    "scrolled": true
   },
   "outputs": [],
   "source": [
    "file_input = file_input.input.str.split(expand = True)"
   ]
  },
  {
   "cell_type": "code",
   "execution_count": 241,
   "metadata": {},
   "outputs": [],
   "source": [
    "#file_input.head()"
   ]
  },
  {
   "cell_type": "code",
   "execution_count": 27,
   "metadata": {},
   "outputs": [],
   "source": [
    "proteinNameSeq = file_input.drop([1,2], axis = 1)\n",
    "proteinNameSeq.columns = ['NCR', 'SEQUENCE']"
   ]
  },
  {
   "cell_type": "code",
   "execution_count": 28,
   "metadata": {},
   "outputs": [
    {
     "data": {
      "text/plain": [
       "[]"
      ]
     },
     "execution_count": 28,
     "metadata": {},
     "output_type": "execute_result"
    }
   ],
   "source": [
    "proteinNameSeq.head()\n",
    "#for index, row in proteinNameSeq.iterrows():\n",
    "    #protein_embedding.append(row['SEQUENCE'])\n",
    "protein_embeddings = []\n",
    "protein_embeddings"
   ]
  },
  {
   "cell_type": "code",
   "execution_count": null,
   "metadata": {},
   "outputs": [],
   "source": [
    "#DEFAULT FOR GLYCOWORK\n",
    "#import os\n",
    "#bucket_root = os.environ['WORKSPACE_BUCKET']\n",
    "#print(bucket_root)\n",
    "## find out the path to file by running gsutil commandline tool.\n",
    "#!gsutil ls gs://fc-0a6f0af0-7c38-45d2-9faa-2ab086ec0b09/Glycowork\n",
    "#file1 = 'stored_protein_embeddings.pkl'\n",
    "\n",
    "#!gsutil cp gs://fc-0a6f0af0-7c38-45d2-9faa-2ab086ec0b09/Glycowork/stored_protein_embeddings.pkl stored_protein_embeddings.pkl\n",
    "\n",
    "#with open('stored_protein_embeddings.pkl', 'rb') as file1:\n",
    "#  old_dic = pickle.load(file)"
   ]
  },
  {
   "cell_type": "markdown",
   "metadata": {},
   "source": [
    "Input for Embeddings"
   ]
  },
  {
   "cell_type": "code",
   "execution_count": null,
   "metadata": {
    "code_folding": []
   },
   "outputs": [],
   "source": [
    "#show_doc(get_esm1b_representations)"
   ]
  },
  {
   "cell_type": "code",
   "execution_count": null,
   "metadata": {},
   "outputs": [],
   "source": [
    "#represent = get_esm1b_representations(lane, model_esm, alphabet)"
   ]
  },
  {
   "cell_type": "code",
   "execution_count": 29,
   "metadata": {
    "code_folding": []
   },
   "outputs": [],
   "source": [
    "protein_seq = proteinNameSeq['SEQUENCE'].tolist()\n",
    "protein_dict = get_esm1b_representations(protein_seq, model_esm, alphabet)"
   ]
  },
  {
   "cell_type": "code",
   "execution_count": 239,
   "metadata": {},
   "outputs": [],
   "source": [
    "#proteinNameSeq.head()"
   ]
  },
  {
   "cell_type": "markdown",
   "metadata": {
    "id": "qqZBJVS1bE0I"
   },
   "source": [
    "Code"
   ]
  },
  {
   "cell_type": "code",
   "execution_count": 17,
   "metadata": {},
   "outputs": [],
   "source": [
    "model = prep_model('LectinOracle',1,trained=True)"
   ]
  },
  {
   "cell_type": "code",
   "execution_count": 178,
   "metadata": {},
   "outputs": [],
   "source": [
    "outprint_multi_protein = pd.DataFrame(columns = ['name', 'preds'])"
   ]
  },
  {
   "cell_type": "code",
   "execution_count": 110,
   "metadata": {
    "code_folding": []
   },
   "outputs": [],
   "source": [
    "#lane sequence\n",
    "glycan = ['GlcA(b1-3)Xyl(a1-3)GlcA(b1-3)Xyl']"
   ]
  },
  {
   "cell_type": "code",
   "execution_count": 148,
   "metadata": {},
   "outputs": [],
   "source": [
    "#show_doc(get_lectin_preds)"
   ]
  },
  {
   "cell_type": "code",
   "execution_count": 179,
   "metadata": {
    "code_folding": []
   },
   "outputs": [],
   "source": [
    "#multiple protein, single glycan\n",
    "a=0\n",
    "for index, rows in proteinNameSeq.iterrows():\n",
    "    outprint_multi_protein.at[a, 'name'] = rows['NCR'] # replace with the actual name when reading from a file\n",
    "    #[pred] is at the end because get_lec returns an array and we only need the pred value\n",
    "    outprint_multi_protein.at[a, 'preds'] = str((get_lectin_preds((rows['SEQUENCE']), glycan,model,protein_dict))['pred'])\n",
    "    a +=1\n",
    "#outprint_multi_protein.head()"
   ]
  },
  {
   "cell_type": "code",
   "execution_count": 240,
   "metadata": {
    "code_folding": []
   },
   "outputs": [],
   "source": [
    "nameDF = outprint_multi_protein['name']\n",
    "splitDF = outprint_multi_protein.preds.str.split(expand = True)\n",
    "splitDF = splitDF.drop([0,2,3,4,5], axis = 1)\n",
    "concatDF = pd.concat([nameDF, splitDF], ignore_index=True, sort=False, axis = 1)\n",
    "#concatDF"
   ]
  },
  {
   "cell_type": "code",
   "execution_count": 238,
   "metadata": {},
   "outputs": [
    {
     "name": "stdout",
     "output_type": "stream",
     "text": [
      "gs://fc-0a6f0af0-7c38-45d2-9faa-2ab086ec0b09/Glycowork/\n",
      "gs://fc-0a6f0af0-7c38-45d2-9faa-2ab086ec0b09/Glycowork/10GBChimera.output\n",
      "gs://fc-0a6f0af0-7c38-45d2-9faa-2ab086ec0b09/Glycowork/output.csv\n",
      "gs://fc-0a6f0af0-7c38-45d2-9faa-2ab086ec0b09/Glycowork/stored_protein_embeddings.pkl\n",
      "Copying file://output.csv [Content-Type=text/csv]...\n",
      "/ [1 files][  2.3 KiB/  2.3 KiB]                                                \n",
      "Operation completed over 1 objects/2.3 KiB.                                      \n"
     ]
    }
   ],
   "source": [
    "#PREDICTION OUTPUT CSV\n",
    "outprint_multi_protein_3.to_csv(\"output.csv\",header=False, index = False)\n",
    "!gsutil ls gs://fc-0a6f0af0-7c38-45d2-9faa-2ab086ec0b09/Glycowork\n",
    "!gsutil cp \"output.csv\" gs://fc-0a6f0af0-7c38-45d2-9faa-2ab086ec0b09/Glycowork/output.csv"
   ]
  },
  {
   "cell_type": "code",
   "execution_count": null,
   "metadata": {
    "code_folding": []
   },
   "outputs": [],
   "source": [
    "# single protein, multiple glycan\n",
    "#preds = get_lectin_preds(protein, df_glycan.glycan.tolist(),model,old_dic)\n",
    "preds = get_lectin_preds(lane, df_glycan.glycan.tolist(),model,represent)\n",
    "print(preds.head())"
   ]
  },
  {
   "cell_type": "code",
   "execution_count": null,
   "metadata": {
    "code_folding": []
   },
   "outputs": [],
   "source": [
    "# single protein, single glycan\n",
    "preds = get_lectin_preds(protein_SNA, glycan,model,old_dic)\n",
    "print(preds.head())"
   ]
  }
 ],
 "metadata": {
  "accelerator": "GPU",
  "colab": {
   "name": "Glycowork_Pred",
   "provenance": []
  },
  "gpuClass": "standard",
  "kernelspec": {
   "display_name": "Python 3",
   "language": "python",
   "name": "python3"
  },
  "language_info": {
   "codemirror_mode": {
    "name": "ipython",
    "version": 3
   },
   "file_extension": ".py",
   "mimetype": "text/x-python",
   "name": "python",
   "nbconvert_exporter": "python",
   "pygments_lexer": "ipython3",
   "version": "3.7.12"
  },
  "toc": {
   "base_numbering": 1,
   "nav_menu": {},
   "number_sections": true,
   "sideBar": true,
   "skip_h1_title": false,
   "title_cell": "Table of Contents",
   "title_sidebar": "Contents",
   "toc_cell": false,
   "toc_position": {},
   "toc_section_display": true,
   "toc_window_display": false
  }
 },
 "nbformat": 4,
 "nbformat_minor": 1
}
