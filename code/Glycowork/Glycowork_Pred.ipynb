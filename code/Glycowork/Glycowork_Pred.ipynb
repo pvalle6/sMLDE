{
  "cells": [
    {
      "cell_type": "code",
      "source": [
        "import torch\n",
        "print(torch.__version__)"
      ],
      "metadata": {
        "id": "o73cqkfdv97O",
        "colab": {
          "base_uri": "https://localhost:8080/"
        },
        "outputId": "d532fd5a-cfa9-4fbc-c117-66e620c7908e"
      },
      "execution_count": null,
      "outputs": [
        {
          "output_type": "stream",
          "name": "stdout",
          "text": [
            "1.12.1+cu113\n"
          ]
        }
      ]
    },
    {
      "cell_type": "code",
      "execution_count": null,
      "metadata": {
        "id": "dLbDD6JKL1Z4"
      },
      "outputs": [],
      "source": [
        "!pip install torch-scatter \n",
        "!pip install torch-sparse \n",
        "!pip install torch-cluster \n",
        "!pip install torch-spline-conv \n",
        "!pip install torch-geometric"
      ]
    },
    {
      "cell_type": "code",
      "execution_count": null,
      "metadata": {
        "id": "RdhQ2uYYLtja"
      },
      "outputs": [],
      "source": [
        "!pip install glycowork\n",
        "import glycowork"
      ]
    },
    {
      "cell_type": "code",
      "execution_count": null,
      "metadata": {
        "id": "n1POtCuDQQXA",
        "colab": {
          "base_uri": "https://localhost:8080/"
        },
        "outputId": "0d4a1497-c508-4a20-e981-18e3ac25cc72"
      },
      "outputs": [
        {
          "output_type": "stream",
          "name": "stderr",
          "text": [
            "/usr/local/lib/python3.7/dist-packages/statsmodels/tools/_testing.py:19: FutureWarning: pandas.util.testing is deprecated. Use the functions in the public API at pandas.testing instead.\n",
            "  import pandas.util.testing as tm\n"
          ]
        }
      ],
      "source": [
        "#export\n",
        "from glycowork.ml.model_training import *\n",
        "from glycowork.ml.models import *\n",
        "from glycowork.ml.processing import *\n",
        "from glycowork.ml.inference import *\n",
        "from glycowork.ml.train_test_split import *\n",
        "from glycowork.ml import models\n",
        "from glycowork.ml import model_training\n",
        "#export\n",
        "from glycowork.glycan_data.loader import *\n",
        "from glycowork.glycan_data.data_entry import *\n",
        "from glycowork.motif.analysis import plot_embeddings, make_heatmap, characterize_monosaccharide, get_pvals_motifs"
      ]
    },
    {
      "cell_type": "code",
      "execution_count": null,
      "metadata": {
        "id": "rvjs6uEXVKHr"
      },
      "outputs": [],
      "source": [
        "!pip install nbdev\n",
        "#hide\n",
        "#default_exp ml\n",
        "import warnings\n",
        "warnings.filterwarnings(\"ignore\")\n",
        "from nbdev.showdoc import show_doc\n",
        "from IPython.display import HTML\n",
        "%load_ext autoreload\n",
        "%autoreload 2"
      ]
    },
    {
      "cell_type": "code",
      "source": [
        "#!pip install fair-esm\n",
        "#import esm\n",
        "#model, alphabet = esm.pretrained.esm1b_t33_650M_UR50S()"
      ],
      "metadata": {
        "id": "BseNOyJZaZGI"
      },
      "execution_count": null,
      "outputs": []
    },
    {
      "cell_type": "markdown",
      "metadata": {
        "id": "qqZBJVS1bE0I"
      },
      "source": [
        "**Code**\n",
        "\n",
        "Ideally, we would be reading the proteins, sequences off of a file as to create a large dataframe, which would lend to easier naming, but for now, using a number will suffice \n",
        "\n",
        "In addition, any large scale scheme would need a conversion into embedding, which to save time on each run should be saved. "
      ]
    },
    {
      "cell_type": "code",
      "source": [
        "agr = 'PSVPAFKGHSFLAFPTLRAYHTLRLALEFRALETEGLLLYNGNARGKDFLALALLDGHVQFRFDTGSGPAVLTSLVPVEPGRWHRLELSRHWRQGTLSVDGEAPVVGESPSGTDGLNLDTKLYVGGLPEEQVATVLDRTSVGIGLKGCIRMLDINNQQLELSDWQRAVVQSSGVGEC'\n",
        "# Lectin Oracle Paper's proteins\n",
        "protein_SNA = 'MRLVAKLLYLAVLAICGLGIHGALTHPRVTPPVYPSVSFNLTGADTYEPFLRALQEKVILGNHTAFDLPVLNPESQVSDSNRFVLVPLTNPSGDTVTLAIDVVNLYVVAFSSNGKSYFFSGSTAVQRDNLFVDTTQEELNFTGNYTSLERQVGFGRVYIPLGPKSLDQAISSLRTYTLTAGDTKPLARGLLVVIQMVSEAARFRYIELRIRTSITDASEFTPDLLMLSMENNWSSMSSEIQQAQPGGIFAGVVQLRDERNNSIEVTNFRRLFELTYIAVLLYGCAPVTSSSYSNNAIDAQIIKMPVFRGGEYEKVCSVVEVTRRISGWDGLCVDVRYGHYIDGNPVQLRPCGNECNQLWTFRTDGTIRWLGKCLTASSSVMIYDCNTVPPEATKWVVSIDGTITNPHSGLVLTAPQAAEGTALSLENNIHAARQGWTVGDVEPLVTFIVGYKQMCLRENGENNFVWLEDCVLNRVQQEWALYGDGTIRVNSNRSLCVTSEDHEPSDLIVILKCEGSGNQRWVFNTNGTISNPNAKLLMDVAQRDVSLRKIILYRPTGNPNQQWITTTHPA'\n",
        "gal_7 = 'MSNVPHKSSLPEGIRPGTVLRIRGLVPPNASRFHVNLLCGEEGGSDAALHFNPRLDTSEVVFNSKEGGSWGREERGPGVPFGRGQPFEVLIIASDDGFKAVVGDAQYHHFRHRLPLARVRLVEVGGDVQLDSVRIF'\n",
        "lox_1 = 'DGMQLSQVSDLLTQEQANLTHQKKKLEGQISARQQAEEASQESENELKEMIETLARKLNEKSKEQMELHHQNLNLQETLKRVANCSAPCPQDWIWHGENCYLFSSGSFNWEKSQEKCLSLDAKLLKINSTADLDFIQQAISYSSFPFWMGLSRRNPSYPWLWEDGSPLMPHLFRVRGAVSQTYPSGTCAYIQRGAVYAENCILAAFSICQKKANLRAQVEPKSCDKTHTCPPCPAPELLGGPSVFLFPPKPKDTLMISRTPEVTCVVVDVSHEDPEVKFNWYVDGVEVHNAKTKPREEQYNSTYRVVSVLTVLHQDWLNGKEYKCKVSNKALPAPIEKTISKAKGQPREPQVYTLPPSRDELTKNQVSLTCLVKGFYPSDIAVEWESNGQPENNYKTTPPVLDSDGSFFLYSKLTVDKSRWQQGNVFSCSVMHEALHNHYTQKSLSLSPGK'"
      ],
      "metadata": {
        "id": "7FIvjQgAQATY"
      },
      "execution_count": null,
      "outputs": []
    },
    {
      "cell_type": "code",
      "source": [
        "#list of proteins to feed, \n",
        "\n",
        "protein_list = [protein_SNA, gal_7, lox_1]\n",
        "#possibly switch to zip (name, sequence)??\n",
        "# protein_list = [(SNA, abc), (gal_7, def,), (lox_1, ghi)]\n",
        "glycan = ['1,5-Anhydro-ManNAc-ol(2-4)GlcNAc1N']"
      ],
      "metadata": {
        "id": "xzXH4o1PSHQl"
      },
      "execution_count": null,
      "outputs": []
    },
    {
      "cell_type": "code",
      "source": [
        "with open('stored_protein_embeddings.pkl', 'rb') as file:\n",
        "  old_dic = pickle.load(file)"
      ],
      "metadata": {
        "id": "e0JO6sv7R-Sq"
      },
      "execution_count": null,
      "outputs": []
    },
    {
      "cell_type": "code",
      "source": [
        "model = prep_model('LectinOracle',1,trained=True)"
      ],
      "metadata": {
        "id": "07FZlE81dmsV"
      },
      "execution_count": null,
      "outputs": []
    },
    {
      "cell_type": "code",
      "source": [
        "#model.load_state_dict(torch.load(trained_LectinOracle_flex))\n",
        "#likely unnecessary, seems to run this command already??"
      ],
      "metadata": {
        "id": "GeYIzeEoX_Jb"
      },
      "execution_count": null,
      "outputs": []
    },
    {
      "cell_type": "code",
      "source": [
        "outprint_multi_protein = pd.DataFrame(columns = ['name', 'sequence', 'pred'])"
      ],
      "metadata": {
        "id": "HCDQDO2ce43X"
      },
      "execution_count": null,
      "outputs": []
    },
    {
      "cell_type": "code",
      "source": [
        "glycan = 'GlcA(β1-3)Xyl(α1-3)GlcA(β1-3)Xyl(α1-3)GlcA(β)'\n",
        "\n",
        "#GlcA(β1-3)Xyl(α1-3)GlcA(β1-3)Xyl(α1-3)GlcA(β)\n",
        "#7-hydroxy-4-methylchromen-2-one\n",
        "#GlcA(β1-3)Xyl(α1-3)GlcA(β1-3)Xyl(α1-3)\n",
        "#GlcA(β1-3)Xyl(α1-3)GlcA(β1-3)Xyl(α1-OH)\n",
        "#GlcA(β1-3)Xyl(α1-3)GlcA(β1-3)Xyl(α1-3)GlcA(β1-OH)"
      ],
      "metadata": {
        "id": "mGfOQFRw4azC"
      },
      "execution_count": null,
      "outputs": []
    },
    {
      "cell_type": "code",
      "source": [
        "#multiple protein, single glycan\n",
        "a=0\n",
        "protein_naming = R\"{protein}\" \n",
        "for protein in protein_list:\n",
        "  outprint_multi_protein.at[a, 'name'] = a # replace with the actual name when reading from a file\n",
        "  outprint_multi_protein.at[a, 'sequence'] = protein\n",
        "  outprint_multi_protein.at[a, 'pred'] = (get_lectin_preds(protein, glycan,model,old_dic).at[0,'pred'])\n",
        "  a += 1\n",
        "outprint_multi_protein.head()"
      ],
      "metadata": {
        "id": "ZSYWfHgDX9_M"
      },
      "execution_count": null,
      "outputs": []
    },
    {
      "cell_type": "code",
      "source": [
        "#multiple protein, single glycan\n",
        "a=0\n",
        "protein_naming = R\"{protein}\" \n",
        "for protein in protein_list:\n",
        "  outprint_multi_protein.at[a, 'name'] = a # replace with the actual name when reading from a file\n",
        "  outprint_multi_protein.at[a, 'sequence'] = protein\n",
        "  outprint_multi_protein.at[a, 'pred'] = (get_lectin_preds(protein, glycan,model,old_dic).at[0,'pred'])\n",
        "  a += 1\n",
        "outprint_multi_protein.head()"
      ],
      "metadata": {
        "id": "mYnUNqSO5cDw"
      },
      "execution_count": null,
      "outputs": []
    },
    {
      "cell_type": "code",
      "execution_count": null,
      "metadata": {
        "id": "3nU4_qTsaToo"
      },
      "outputs": [],
      "source": [
        "# single protein, multiple glycan\n",
        "preds = get_lectin_preds(protein_SNA, df_glycan.glycan.tolist(),model,old_dic)"
      ]
    },
    {
      "cell_type": "code",
      "source": [
        "#preds.to_csv()"
      ],
      "metadata": {
        "id": "rYRTXmgQk2CJ"
      },
      "execution_count": null,
      "outputs": []
    }
  ],
  "metadata": {
    "accelerator": "GPU",
    "colab": {
      "name": "Glycowork_Pred",
      "provenance": [],
      "collapsed_sections": []
    },
    "gpuClass": "standard",
    "kernelspec": {
      "display_name": "Python 3",
      "name": "python3"
    },
    "language_info": {
      "name": "python"
    }
  },
  "nbformat": 4,
  "nbformat_minor": 0
}